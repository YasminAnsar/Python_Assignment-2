{
 "cells": [
  {
   "cell_type": "markdown",
   "metadata": {},
   "source": [
    "Question#1 Witre the functions for the followings\n",
    "a) Collecting the inputs for the problem. Convert the inputs to the relevant types they should be.\n",
    "b) Calculating the equation given the inputs from the above.\n",
    "c) Printing your result in a preformatted string.\n",
    "Ensure to include a main program that reads the values from the user."
   ]
  },
  {
   "cell_type": "code",
   "execution_count": null,
   "metadata": {},
   "outputs": [],
   "source": [
    "\n",
    "##30.3753, 69.3451 (Pakistan)\n",
    "##60.1282, 18.6435 (Sweden)\n",
    "import math\n",
    "## Function for calculating the distance\n",
    "def distance(lat1,long1,lat2,long2):\n",
    "    total_distance  = 6371.01 * math.acos(math.sin(lat1)*math.sin(lat2) + math.cos(lat1) * math.cos(lat2) * math.cos(long1 - long2))\n",
    "    return total_distance\n",
    "## Function to calculate the time to cover that distance \n",
    "def time(lat1,long1,lat2,long2):\n",
    "    Areoplane_speed  = 740 \n",
    "    time_required = distance(lat1,long1,lat2,long2)/ Areoplane_speed\n",
    "    return time_required\n",
    "## MAin function to take uer input and call other functions to calculate the distance and time \n",
    "def user_input():\n",
    "    starting_point = input(\"Enter the starting country name: \")\n",
    "    lat1 = math.radians(float(input(\"Enter the latitude1: \")))\n",
    "    long1 = math.radians(float(input(\"Enter the longitude: \")))\n",
    "    destination_point = input(\"Enter the destination country name: \")\n",
    "    lat2 = math.radians(float(input(\"Enter the latitude2: \")))\n",
    "    long2 = math.radians(float(input(\"Enter the longitude: \")))\n",
    "    #result = starting_point,lat1,long1,destination_point,lat2,long2\n",
    "    total_distance =  distance(lat1,long1,lat2,long2)\n",
    "    time_required = time(lat1,long1,lat2,long2)\n",
    "    return (f\" The total distance between {starting_point} and  {destination_point} is {total_distance} and time required to complete this distance is {time_required} hours\")\n",
    "#Caaling the dunction \n",
    "user_input()\n"
   ]
  },
  {
   "cell_type": "markdown",
   "metadata": {},
   "source": [
    "Question #2 Write a function that takes three numbers as parameters, and returns the mean value of those parameters as its result. Include a main program that reads three values from the user and displays their mean."
   ]
  },
  {
   "cell_type": "code",
   "execution_count": 17,
   "metadata": {},
   "outputs": [
    {
     "data": {
      "text/plain": [
       "'The mean of 20, 40 and 60 is 40'"
      ]
     },
     "execution_count": 17,
     "metadata": {},
     "output_type": "execute_result"
    }
   ],
   "source": [
    "#importing statistics module for mean calculation \n",
    "import statistics              \n",
    "#mean function\n",
    "def mean_value(int1, int2, int3):\n",
    "    numbers = (int1,int2, int3)\n",
    "    mean = statistics.mean(numbers)\n",
    "    return mean\n",
    "#main function for user input and calling mean function\n",
    "def user_values():\n",
    "    int1 = int(input(\"Enter the first value:\"))\n",
    "    int2 = int(input(\"Enter the second value:\"))\n",
    "    int3 = int(input(\"Enter the third value:\"))\n",
    "    result = mean_value(int1, int2, int3)\n",
    "    return (f\"The mean of {int1}, {int2} and {int3} is {result}\")\n",
    "user_values()"
   ]
  },
  {
   "cell_type": "markdown",
   "metadata": {},
   "source": [
    "Question #3 Only the words: Create a program that identifies all of the words in a string entered by a user. Begin by writing a function that takes a string of text as its only parameter. Your function should return a list of the words in the string with the punctuation marks removed. Punctuation marks include commas, periods, question marks, hyphens, apostrophes, exclamation points, colons, and semicolons. "
   ]
  },
  {
   "cell_type": "code",
   "execution_count": 31,
   "metadata": {},
   "outputs": [
    {
     "data": {
      "text/plain": [
       "'hi hipo'"
      ]
     },
     "execution_count": 31,
     "metadata": {},
     "output_type": "execute_result"
    }
   ],
   "source": [
    "import string  #IMPORT STRING MODULE\n",
    "import re     #IMPORT FOR REGULAR EXPRESSION module\n",
    "def string_input():\n",
    "    mystring = str(input(\"Enter the text string: \"))\n",
    "    regex = re.compile('[%s]' % re.escape(string.punctuation))\n",
    "    new_string = regex.sub(u'', mystring)\n",
    "    return list(new_string.split())\n",
    "string_input()"
   ]
  },
  {
   "cell_type": "markdown",
   "metadata": {},
   "source": [
    "Question #4 Create a program that will serve as a class database and will allow users to add names and scores to the database. For each name and score that is added, print the dictionary database for the user."
   ]
  },
  {
   "cell_type": "code",
   "execution_count": 10,
   "metadata": {},
   "outputs": [
    {
     "name": "stdout",
     "output_type": "stream",
     "text": [
      "{'max': 22.0, 'anna': 44.0, 'ansar': 56.0, 'maria': 56.0, 'ani': 45.0}\n",
      "{'anna': 44.0, 'ansar': 56.0, 'maria': 56.0, 'ani': 45.0}\n"
     ]
    }
   ],
   "source": [
    "import json\n",
    "import os\n",
    "def class_name():\n",
    "    name = input(\"Enter the name: \")\n",
    "    score = float(input(\"Enter the score: \"))\n",
    "    class_dict[name] = (score)\n",
    "    return class_dict\n",
    "#an empty  file to store the dictionary data \n",
    "filename = 'class_txt_file.json'\n",
    "#it will check if file already exist then it will read the data and load it into dictionary\n",
    "#but here for the first time it is not already existed so it will go to else and create an empty dict and \n",
    "#second time when it will run it will store the data using if seaction\n",
    "if os.path.exists(filename):\n",
    "    with open(filename, 'r') as f:\n",
    "        class_dict = json.load(f)\n",
    "else:\n",
    "    class_dict = {}\n",
    "#Using while loop to take the dict values from the user and calling the class_name()\n",
    "while True:    \n",
    "    choice = input('You want to add more students name and score: y/n? ')  #to ask if want to add moreor not\n",
    "    if choice == 'y':\n",
    "        class_name()\n",
    "    else:\n",
    "        break\n",
    "#writting into the file dict\n",
    "with open(filename, 'w') as f:\n",
    "    json.dump(class_dict,f)\n",
    "\n",
    "print(class_dict)\n",
    "# subtracting the score of the given name \n",
    "del class_dict['max']\n",
    "print(class_dict)"
   ]
  },
  {
   "cell_type": "markdown",
   "metadata": {},
   "source": [
    "Question #5 A prime number is an integer greater than 1 that is only divisible by one and itself. Write a function that determines whether or not its parameter is prime, returning True if it is and False otherwise. Write a main program that reads an integer from the user and displays a message indicating whether or not it is a prime. "
   ]
  },
  {
   "cell_type": "code",
   "execution_count": 46,
   "metadata": {},
   "outputs": [
    {
     "data": {
      "text/plain": [
       "True"
      ]
     },
     "execution_count": 46,
     "metadata": {},
     "output_type": "execute_result"
    }
   ],
   "source": [
    "def check_prime():\n",
    "    number = int(input(\"Enter the number: \"))\n",
    "    #for loop to check the number is prime or not\n",
    "    for i in range(2,number):    #i is a counter for number range.\n",
    "        if number%i == 0:\n",
    "            return False\n",
    "    else:\n",
    "        return True\n",
    "\n",
    "check_prime()"
   ]
  }
 ],
 "metadata": {
  "kernelspec": {
   "display_name": "Python 3.11.0 64-bit",
   "language": "python",
   "name": "python3"
  },
  "language_info": {
   "codemirror_mode": {
    "name": "ipython",
    "version": 3
   },
   "file_extension": ".py",
   "mimetype": "text/x-python",
   "name": "python",
   "nbconvert_exporter": "python",
   "pygments_lexer": "ipython3",
   "version": "3.11.0"
  },
  "orig_nbformat": 4,
  "vscode": {
   "interpreter": {
    "hash": "abf1935dff6ce16d1bc561b786c949d1ee9a2c144cfe4d8a7134240bf2a33342"
   }
  }
 },
 "nbformat": 4,
 "nbformat_minor": 2
}
